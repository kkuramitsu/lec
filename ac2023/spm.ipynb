{
 "cells": [
  {
   "cell_type": "code",
   "execution_count": 2,
   "metadata": {},
   "outputs": [
    {
     "name": "stderr",
     "output_type": "stream",
     "text": [
      "sentencepiece_trainer.cc(77) LOG(INFO) Starts training with : \n",
      "trainer_spec {\n",
      "  input: all.txt\n",
      "  input_format: \n",
      "  model_prefix: prog_unigram\n",
      "  model_type: UNIGRAM\n",
      "  vocab_size: 4000\n",
      "  self_test_sample_size: 0\n",
      "  character_coverage: 0.9995\n",
      "  input_sentence_size: 0\n",
      "  shuffle_input_sentence: 1\n",
      "  seed_sentencepiece_size: 1000000\n",
      "  shrinking_factor: 0.75\n",
      "  max_sentence_length: 4192\n",
      "  num_threads: 16\n",
      "  num_sub_iterations: 2\n",
      "  max_sentencepiece_length: 16\n",
      "  split_by_unicode_script: 1\n",
      "  split_by_number: 1\n",
      "  split_by_whitespace: 1\n",
      "  split_digits: 0\n",
      "  treat_whitespace_as_suffix: 0\n",
      "  allow_whitespace_only_pieces: 0\n",
      "  required_chars: \n",
      "  byte_fallback: 0\n",
      "  vocabulary_output_piece_score: 1\n",
      "  train_extremely_large_corpus: 0\n",
      "  hard_vocab_limit: 1\n",
      "  use_all_vocab: 0\n",
      "  unk_id: 0\n",
      "  bos_id: 1\n",
      "  eos_id: 2\n",
      "  pad_id: -1\n",
      "  unk_piece: <unk>\n",
      "  bos_piece: <s>\n",
      "  eos_piece: </s>\n",
      "  pad_piece: <pad>\n",
      "  unk_surface:  ⁇ \n",
      "  enable_differential_privacy: 0\n",
      "  differential_privacy_noise_level: 0\n",
      "  differential_privacy_clipping_threshold: 0\n",
      "}\n",
      "normalizer_spec {\n",
      "  name: nmt_nfkc\n",
      "  add_dummy_prefix: 1\n",
      "  remove_extra_whitespaces: 1\n",
      "  escape_whitespaces: 1\n",
      "  normalization_rule_tsv: \n",
      "}\n",
      "denormalizer_spec {}\n",
      "trainer_interface.cc(350) LOG(INFO) SentenceIterator is not specified. Using MultiFileSentenceIterator.\n",
      "trainer_interface.cc(181) LOG(INFO) Loading corpus: all.txt\n"
     ]
    },
    {
     "ename": "OSError",
     "evalue": "Not found: \"all.txt\": No such file or directory Error #2",
     "output_type": "error",
     "traceback": [
      "\u001b[0;31m---------------------------------------------------------------------------\u001b[0m",
      "\u001b[0;31mOSError\u001b[0m                                   Traceback (most recent call last)",
      "\u001b[1;32mセル1 を /Users/kimio/Git/data2022/prog_text/spm.ipynb\u001b[0m in \u001b[0;36m<cell line: 4>\u001b[0;34m()\u001b[0m\n\u001b[1;32m      <a href='vscode-notebook-cell:/Users/kimio/Git/data2022/prog_text/spm.ipynb#W0sdW50aXRsZWQ%3D?line=0'>1</a>\u001b[0m \u001b[39mimport\u001b[39;00m \u001b[39msentencepiece\u001b[39;00m \u001b[39mas\u001b[39;00m \u001b[39mspm\u001b[39;00m\n\u001b[0;32m----> <a href='vscode-notebook-cell:/Users/kimio/Git/data2022/prog_text/spm.ipynb#W0sdW50aXRsZWQ%3D?line=3'>4</a>\u001b[0m spm\u001b[39m.\u001b[39;49mSentencePieceTrainer\u001b[39m.\u001b[39;49mtrain(\n\u001b[1;32m      <a href='vscode-notebook-cell:/Users/kimio/Git/data2022/prog_text/spm.ipynb#W0sdW50aXRsZWQ%3D?line=4'>5</a>\u001b[0m     \u001b[39minput\u001b[39;49m\u001b[39m=\u001b[39;49m\u001b[39m\"\u001b[39;49m\u001b[39mall.txt\u001b[39;49m\u001b[39m\"\u001b[39;49m,  \u001b[39m# コーパスファイル\u001b[39;49;00m\n\u001b[1;32m      <a href='vscode-notebook-cell:/Users/kimio/Git/data2022/prog_text/spm.ipynb#W0sdW50aXRsZWQ%3D?line=5'>6</a>\u001b[0m     model_type\u001b[39m=\u001b[39;49m\u001b[39m\"\u001b[39;49m\u001b[39munigram\u001b[39;49m\u001b[39m\"\u001b[39;49m,  \u001b[39m# デフォルト\u001b[39;49;00m\n\u001b[1;32m      <a href='vscode-notebook-cell:/Users/kimio/Git/data2022/prog_text/spm.ipynb#W0sdW50aXRsZWQ%3D?line=6'>7</a>\u001b[0m     model_prefix\u001b[39m=\u001b[39;49m\u001b[39m'\u001b[39;49m\u001b[39mprog_unigram\u001b[39;49m\u001b[39m'\u001b[39;49m,  \u001b[39m# 出力されるモデルのファイル名に使われる\u001b[39;49;00m\n\u001b[1;32m      <a href='vscode-notebook-cell:/Users/kimio/Git/data2022/prog_text/spm.ipynb#W0sdW50aXRsZWQ%3D?line=7'>8</a>\u001b[0m     vocab_size\u001b[39m=\u001b[39;49m\u001b[39m4000\u001b[39;49m,  \u001b[39m# 語彙数\u001b[39;49;00m\n\u001b[1;32m      <a href='vscode-notebook-cell:/Users/kimio/Git/data2022/prog_text/spm.ipynb#W0sdW50aXRsZWQ%3D?line=8'>9</a>\u001b[0m )\n",
      "File \u001b[0;32m/usr/local/lib/python3.10/site-packages/sentencepiece/__init__.py:989\u001b[0m, in \u001b[0;36mSentencePieceTrainer.Train\u001b[0;34m(arg, logstream, **kwargs)\u001b[0m\n\u001b[1;32m    986\u001b[0m \u001b[39m@staticmethod\u001b[39m\n\u001b[1;32m    987\u001b[0m \u001b[39mdef\u001b[39;00m \u001b[39mTrain\u001b[39m(arg\u001b[39m=\u001b[39m\u001b[39mNone\u001b[39;00m, logstream\u001b[39m=\u001b[39m\u001b[39mNone\u001b[39;00m, \u001b[39m*\u001b[39m\u001b[39m*\u001b[39mkwargs):\n\u001b[1;32m    988\u001b[0m   \u001b[39mwith\u001b[39;00m _LogStream(ostream\u001b[39m=\u001b[39mlogstream):\n\u001b[0;32m--> 989\u001b[0m     SentencePieceTrainer\u001b[39m.\u001b[39;49m_Train(arg\u001b[39m=\u001b[39;49marg, \u001b[39m*\u001b[39;49m\u001b[39m*\u001b[39;49mkwargs)\n",
      "File \u001b[0;32m/usr/local/lib/python3.10/site-packages/sentencepiece/__init__.py:982\u001b[0m, in \u001b[0;36mSentencePieceTrainer._Train\u001b[0;34m(arg, **kwargs)\u001b[0m\n\u001b[1;32m    980\u001b[0m     \u001b[39mreturn\u001b[39;00m SentencePieceTrainer\u001b[39m.\u001b[39m_TrainFromMap2(new_kwargs, sentence_iterator)\n\u001b[1;32m    981\u001b[0m   \u001b[39melse\u001b[39;00m:\n\u001b[0;32m--> 982\u001b[0m     \u001b[39mreturn\u001b[39;00m SentencePieceTrainer\u001b[39m.\u001b[39;49m_TrainFromMap(new_kwargs)\n\u001b[1;32m    984\u001b[0m \u001b[39mreturn\u001b[39;00m \u001b[39mNone\u001b[39;00m\n",
      "File \u001b[0;32m/usr/local/lib/python3.10/site-packages/sentencepiece/__init__.py:927\u001b[0m, in \u001b[0;36mSentencePieceTrainer._TrainFromMap\u001b[0;34m(args)\u001b[0m\n\u001b[1;32m    925\u001b[0m \u001b[39m@staticmethod\u001b[39m\n\u001b[1;32m    926\u001b[0m \u001b[39mdef\u001b[39;00m \u001b[39m_TrainFromMap\u001b[39m(args):\n\u001b[0;32m--> 927\u001b[0m     \u001b[39mreturn\u001b[39;00m _sentencepiece\u001b[39m.\u001b[39;49mSentencePieceTrainer__TrainFromMap(args)\n",
      "\u001b[0;31mOSError\u001b[0m: Not found: \"all.txt\": No such file or directory Error #2"
     ]
    }
   ],
   "source": [
    "\n",
    "import sentencepiece as spm\n",
    "\n",
    "\n",
    "spm.SentencePieceTrainer.train(\n",
    "    input=\"all.txt\",  # コーパスファイル\n",
    "    model_type=\"unigram\",  # デフォルト\n",
    "    model_prefix='prog_unigram',  # 出力されるモデルのファイル名に使われる\n",
    "    vocab_size=4000,  # 語彙数\n",
    ")\n"
   ]
  }
 ],
 "metadata": {
  "kernelspec": {
   "display_name": "Python 3",
   "language": "python",
   "name": "python3"
  },
  "language_info": {
   "codemirror_mode": {
    "name": "ipython",
    "version": 3
   },
   "file_extension": ".py",
   "mimetype": "text/x-python",
   "name": "python",
   "nbconvert_exporter": "python",
   "pygments_lexer": "ipython3",
   "version": "3.10.9"
  },
  "orig_nbformat": 4,
  "vscode": {
   "interpreter": {
    "hash": "aee8b7b246df8f9039afb4144a1f6fd8d2ca17a180786b69acc140d282b71a49"
   }
  }
 },
 "nbformat": 4,
 "nbformat_minor": 2
}
